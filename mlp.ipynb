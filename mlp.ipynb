{
 "cells": [
  {
   "cell_type": "code",
   "execution_count": 66,
   "source": [
    "import torch\r\n",
    "import torchvision\r\n",
    "from torchvision import transforms, datasets\r\n",
    "import torch.nn as nn\r\n",
    "import torch.nn.functional as F"
   ],
   "outputs": [],
   "metadata": {}
  },
  {
   "cell_type": "code",
   "execution_count": 67,
   "source": [
    "# ---- data loading and pre-processing ---- #\r\n",
    "\r\n",
    "import polar_pla as pla\r\n",
    "import numpy as np\r\n",
    "import torch\r\n",
    "from torch.autograd import Variable\r\n",
    "\r\n",
    "# read in time series into temporary list\r\n",
    "temp = []\r\n",
    "f = open('DataSets/snp500.csv', 'r')\r\n",
    "for line in f:\r\n",
    "    temp.append(float(line))\r\n",
    "\r\n",
    "# run bottom up piecewise linear approximation on that list and store processed values\r\n",
    "data = pla.bottom_up_pla(temp,1000)\r\n",
    "#print(data)\r\n",
    "# set the sequence length (the number of trends we look at to predict the next) and the train to test ratio\r\n",
    "seq_length = 12\r\n",
    "train_proportion = 0.8\r\n",
    "\r\n",
    "# segment the data into input output pairs that we will use to train the model\r\n",
    "def sliding_window(data):\r\n",
    "    inputs = []\r\n",
    "    outputs = []\r\n",
    "    for i in range(0, len(data)-seq_length, 2):\r\n",
    "        inputs.append(data[i:(i+seq_length)]) # the next n are the input\r\n",
    "        outputs.append(data[i+seq_length:i+seq_length+2]) # and the one after that is the output\r\n",
    "    return Variable(torch.Tensor(np.array(inputs))), Variable(torch.Tensor(np.array(outputs)))\r\n",
    "\r\n",
    "# convert data to tensor, and apply dataloader\r\n",
    "total_data_input, total_data_output = sliding_window(data)\r\n",
    "train_size = int(len(total_data_input)*train_proportion)\r\n",
    "\r\n",
    "training_data_input = torch.narrow(total_data_input, 0, 0, train_size)\r\n",
    "training_data_output = torch.narrow(total_data_output, 0, 0, train_size)\r\n",
    "\r\n",
    "testing_data_input = torch.narrow(total_data_input, 0, train_size, len(total_data_input) - train_size)\r\n",
    "testing_data_output = torch.narrow(total_data_output, 0, train_size, len(total_data_input) - train_size)\r\n",
    "\r\n",
    "train = torch.utils.data.TensorDataset(training_data_input, training_data_output)\r\n",
    "test = torch.utils.data.TensorDataset(testing_data_input, testing_data_output)\r\n",
    "trainset = torch.utils.data.DataLoader(train, batch_size=32, shuffle=False)\r\n",
    "testset = torch.utils.data.DataLoader(test, batch_size=32, shuffle=False)"
   ],
   "outputs": [
    {
     "output_type": "stream",
     "name": "stdout",
     "text": [
      "324.8915389789102\n"
     ]
    },
    {
     "output_type": "display_data",
     "data": {
      "text/plain": [
       "<Figure size 432x288 with 1 Axes>"
      ],
      "image/png": "[encoded data removed]"
     },
     "metadata": {
      "needs_background": "light"
     }
    }
   ],
   "metadata": {}
  },
  {
   "cell_type": "code",
   "execution_count": 68,
   "source": [
    "class Net(nn.Module):\r\n",
    "    def __init__(self):\r\n",
    "        super().__init__()\r\n",
    "        self.fc1 = nn.Linear(seq_length, 64)\r\n",
    "        self.fc2 = nn.Linear(64, 64)\r\n",
    "        self.fc3 = nn.Linear(64, 64)\r\n",
    "        self.fc4 = nn.Linear(64, 2)\r\n",
    "\r\n",
    "    def forward(self, x):\r\n",
    "        x = self.fc1(x)\r\n",
    "        x = F.relu(self.fc2(x))\r\n",
    "        x = F.relu(self.fc3(x))\r\n",
    "        x = self.fc4(x)\r\n",
    "        return x\r\n",
    "\r\n",
    "net = Net()\r\n",
    "print(net)"
   ],
   "outputs": [
    {
     "output_type": "stream",
     "name": "stdout",
     "text": [
      "Net(\n",
      "  (fc1): Linear(in_features=12, out_features=64, bias=True)\n",
      "  (fc2): Linear(in_features=64, out_features=64, bias=True)\n",
      "  (fc3): Linear(in_features=64, out_features=64, bias=True)\n",
      "  (fc4): Linear(in_features=64, out_features=2, bias=True)\n",
      ")\n"
     ]
    }
   ],
   "metadata": {}
  },
  {
   "cell_type": "code",
   "execution_count": 69,
   "source": [
    "# training\r\n",
    "\r\n",
    "epochs = 2000\r\n",
    "\r\n",
    "import torch.optim as optim\r\n",
    "\r\n",
    "optimizer = optim.Adam(net.parameters(), lr=0.0001)\r\n",
    "for epoch in range(epochs+1): # 3 full passes over the data\r\n",
    "    for data in trainset:  # `data` is a batch of data\r\n",
    "        X, y = data  # X is the batch of features, y is the batch of targets.\r\n",
    "        net.zero_grad()  # sets gradients to 0 before loss calc. You will do this likely every step.\r\n",
    "        output = net(X.view(-1,seq_length))  # pass in the reshaped batch (recall they are 28x28 atm)\r\n",
    "        #print(X)\r\n",
    "        #print(output, y)\r\n",
    "        loss = F.mse_loss(output, y)  # calc and grab the loss value\r\n",
    "        loss.backward()  # apply this loss backwards thru the network's parameters\r\n",
    "        optimizer.step()  # attempt to optimize weights to account for loss/gradients\r\n",
    "    if epoch %(epochs/10) == 0: print(f\"Epoch: {epoch}/{epochs}, loss: {loss.item()}\")\r\n"
   ],
   "outputs": [
    {
     "output_type": "stream",
     "name": "stdout",
     "text": [
      "Epoch: 0/2000, loss: 0.41755130887031555\n",
      "Epoch: 200/2000, loss: 0.17369641363620758\n",
      "Epoch: 400/2000, loss: 0.08426862955093384\n",
      "Epoch: 600/2000, loss: 0.032933712005615234\n",
      "Epoch: 800/2000, loss: 0.01574384793639183\n",
      "Epoch: 1000/2000, loss: 0.008291638456285\n",
      "Epoch: 1200/2000, loss: 0.006395130883902311\n",
      "Epoch: 1400/2000, loss: 0.005315390881150961\n",
      "Epoch: 1600/2000, loss: 0.004193412605673075\n",
      "Epoch: 1800/2000, loss: 0.002956730080768466\n",
      "Epoch: 2000/2000, loss: 0.0021062109153717756\n"
     ]
    }
   ],
   "metadata": {}
  },
  {
   "cell_type": "code",
   "execution_count": 70,
   "source": [
    "# test\r\n",
    "'''import matplotlib.pyplot as plt\r\n",
    "with torch.no_grad():\r\n",
    "    av_loss = 0 \r\n",
    "    i = 0\r\n",
    "    X, Y = [], []\r\n",
    "    X2, Y2 = [], []\r\n",
    "    for data in test:\r\n",
    "        inputs, labels = data\r\n",
    "        output = net(inputs.view(-1,8))[0]\r\n",
    "\r\n",
    "        X.append(float(output[0]))\r\n",
    "        Y.append(float(output[1]))\r\n",
    "        X2.append(float(labels[0]))\r\n",
    "        Y2.append(float(labels[1]))\r\n",
    "\r\n",
    "    plt.plot(X, Y)\r\n",
    "    plt.plot(X2,Y2)\r\n",
    "    plt.show()'''\r\n",
    "with torch.no_grad():\r\n",
    "    correct = 0\r\n",
    "    i = 0\r\n",
    "    X, Y = [], []\r\n",
    "    X2, Y2 = [], []\r\n",
    "    total_loss = 0\r\n",
    "    for data in test:\r\n",
    "        inputs, labels = data\r\n",
    "        output = net(inputs.view(-1,seq_length))\r\n",
    "        net.zero_grad()\r\n",
    "        total_loss += F.mse_loss(output[0], labels).item()\r\n",
    "        output = output[0]\r\n",
    "        if output[0] < 0 and labels[0] < 0 or output[0] > 0 and labels[0] > 0:\r\n",
    "            correct += 1\r\n",
    "            #print(output[0],labels[0])\r\n",
    "    print(f'Directional Accuracy: {correct*100/len(test)}, Average Loss: {total_loss/len(test)}')\r\n",
    "\r\n",
    "\r\n"
   ],
   "outputs": [
    {
     "output_type": "stream",
     "name": "stdout",
     "text": [
      "Directional Accuracy: 55.95238095238095, Average Loss: 0.9095609580815237\n"
     ]
    }
   ],
   "metadata": {}
  }
 ],
 "metadata": {
  "orig_nbformat": 4,
  "language_info": {
   "name": "python",
   "version": "3.8.8",
   "mimetype": "text/x-python",
   "codemirror_mode": {
    "name": "ipython",
    "version": 3
   },
   "pygments_lexer": "ipython3",
   "nbconvert_exporter": "python",
   "file_extension": ".py"
  },
  "kernelspec": {
   "name": "python3",
   "display_name": "Python 3.8.8 64-bit ('base': conda)"
  },
  "interpreter": {
   "hash": "3cd23b357b5bb7eb022598bbb7741c98d84dc142569d56aec53a2cc58ec68b49"
  }
 },
 "nbformat": 4,
 "nbformat_minor": 2
}